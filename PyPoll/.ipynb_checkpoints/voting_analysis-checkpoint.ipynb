{
 "cells": [
  {
   "cell_type": "code",
   "execution_count": 20,
   "metadata": {},
   "outputs": [],
   "source": [
    "from pathlib import Path\n",
    "import csv"
   ]
  },
  {
   "cell_type": "code",
   "execution_count": 21,
   "metadata": {},
   "outputs": [],
   "source": [
    "election_csv = Path(\"/Users/joshhopkins/Desktop/untitled folder/python-challenge/PyPoll/Resources/election_data.csv\")"
   ]
  },
  {
   "cell_type": "code",
   "execution_count": 27,
   "metadata": {},
   "outputs": [
    {
     "name": "stdout",
     "output_type": "stream",
     "text": [
      "Election Results\n",
      "--------------------------\n",
      "Total Votes: 3521001\n",
      "--------------------------\n",
      "Khan: 63.000% (2218231)\n",
      "Correy: 20.000% (704200)\n",
      "Li: 14.000% (492940)\n",
      "O'Tooley: 3.000% (105630)\n",
      "--------------------------\n",
      "Winner: Khan\n",
      "--------------------------\n"
     ]
    }
   ],
   "source": [
    "candidates = []\n",
    "votes = []\n",
    "vote_percent = []\n",
    "total_votes = 0\n",
    "\n",
    "\n",
    "with open(election_csv, newline = \"\") as csvfile:\n",
    "    \n",
    "    \n",
    "    csv_reader = csv.reader(csvfile, delimiter = ',')\n",
    "    \n",
    "    \n",
    "    header = next(csv_reader)\n",
    "    \n",
    "    for row in csv_reader:\n",
    "        # Add to our vote-counter \n",
    "        total_votes += 1 \n",
    "        \n",
    "        if row[2] not in candidates:\n",
    "            candidates.append(row[2])\n",
    "            index = candidates.index(row[2])\n",
    "            votes.append(1)\n",
    "        else:\n",
    "            index = candidates.index(row[2])\n",
    "            votes[index] += 1\n",
    "    \n",
    "    for vote in votes:\n",
    "        percentage = (vote/total_votes) * 100\n",
    "        percentage = round(percentage)\n",
    "        percentage = \"%.3f%%\" % percentage\n",
    "        vote_percent.append(percentage) \n",
    "        \n",
    "    winner = max(votes)\n",
    "    index = votes.index(winner)\n",
    "    winning_candidate = candidates[index]\n",
    "\n",
    "\n",
    "print(\"Election Results\")\n",
    "print(\"--------------------------\")\n",
    "print(f\"Total Votes: {str(total_votes)}\")\n",
    "print(\"--------------------------\")\n",
    "for i in range(len(candidates)):\n",
    "    print(f\"{candidates[i]}: {str(vote_percent[i])} ({str(votes[i])})\")\n",
    "print(\"--------------------------\")\n",
    "print(f\"Winner: {winning_candidate}\")\n",
    "print(\"--------------------------\")"
   ]
  }
 ],
 "metadata": {
  "kernelspec": {
   "display_name": "Python 3",
   "language": "python",
   "name": "python3"
  },
  "language_info": {
   "codemirror_mode": {
    "name": "ipython",
    "version": 3
   },
   "file_extension": ".py",
   "mimetype": "text/x-python",
   "name": "python",
   "nbconvert_exporter": "python",
   "pygments_lexer": "ipython3",
   "version": "3.8.5"
  }
 },
 "nbformat": 4,
 "nbformat_minor": 4
}
