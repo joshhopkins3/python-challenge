{
 "cells": [
  {
   "cell_type": "code",
   "execution_count": 1,
   "metadata": {},
   "outputs": [],
   "source": [
    "from pathlib import Path\n",
    "import csv"
   ]
  },
  {
   "cell_type": "code",
   "execution_count": 9,
   "metadata": {},
   "outputs": [],
   "source": [
    "budget_csv = Path(\"/Users/joshhopkins/Desktop/untitled folder/python-challenge/PyBank/Resources/budget_data.csv\")"
   ]
  },
  {
   "cell_type": "code",
   "execution_count": 12,
   "metadata": {},
   "outputs": [],
   "source": [
    "line_num = 0\n",
    "profitloss = []\n",
    "profitloss_dates = []\n",
    "profitloss_sum = 0\n",
    "max_pl = 0\n",
    "min_pl = 0\n",
    "sum = 0\n",
    "\n",
    "with open(budget_csv, 'r') as csvfile:\n",
    "    \n",
    "    \n",
    "    csv_reader = csv.reader(csvfile, delimiter = ',')\n",
    "    \n",
    "    \n",
    "    header = next(csv_reader)\n",
    "    \n",
    "    for row in csv_reader:\n",
    "        # print(row)\n",
    "        line_num += 1\n",
    "        profitloss.append(int(row[1]))\n",
    "        profitloss_sum += int(row[1])\n",
    "        profitloss_dates.append(row[0])\n",
    "        \n",
    "\n",
    "profitloss_change = []\n",
    "\n",
    "for i in range(1, len(profitloss)):\n",
    "    x = profitloss[i] - profitloss[i - 1]\n",
    "    profitloss_change.append(int(x))\n",
    "    \n",
    "\n",
    "for i in range(0, len(profitloss_change)):\n",
    "    sum += profitloss_change[i]\n",
    "    average_change_profitloss = round((sum / (len(profitloss_change))), 2)\n",
    "\n",
    "\n",
    "for profloss in profitloss:\n",
    "    \n",
    "    if min_pl == 0:\n",
    "        max_pl == profloss\n",
    "        min_pl == profloss\n",
    "    if profloss > max_pl:\n",
    "        max_pl = profloss\n",
    "    elif profloss < min_pl:\n",
    "        min_pl = profloss\n",
    "        \n",
    "\n",
    "max_pl_index = profitloss.index(max_pl)\n",
    "min_pl_index = profitloss.index(min_pl)\n",
    "\n",
    "max_pl_date = profitloss_dates[max_pl_index]\n",
    "min_pl_date = profitloss_dates[min_pl_index]\n",
    "\n",
    "\n",
    "output = (\n",
    "    f\"Financial Analysis\\n\"\n",
    "    f\"----------------------------\\n\"\n",
    "    f\"Total Months: {line_num} \\n\"\n",
    "    f\"Total: ${profitloss_sum}\\n\"\n",
    "    f\"Average Change: ${average_change_profitloss}\\n\"\n",
    "    f\"Greatest Increase in Profits: {max_pl_date} (${max_pl}) \\n\"\n",
    "    f\"Greatest Decrease in Profits: {min_pl_date} (${min_pl}) \\n\"\n",
    ")"
   ]
  },
  {
   "cell_type": "code",
   "execution_count": 14,
   "metadata": {},
   "outputs": [
    {
     "name": "stdout",
     "output_type": "stream",
     "text": [
      "Financial Analysis\n",
      "----------------------------\n",
      "Total Months: 86 \n",
      "Total: $38382578\n",
      "Average Change: $-2315.12\n",
      "Greatest Increase in Profits: Feb-2012 ($1170593) \n",
      "Greatest Decrease in Profits: Sep-2013 ($-1196225) \n",
      "\n"
     ]
    }
   ],
   "source": [
    "print (output)"
   ]
  },
  {
   "cell_type": "code",
   "execution_count": null,
   "metadata": {},
   "outputs": [],
   "source": []
  }
 ],
 "metadata": {
  "kernelspec": {
   "display_name": "Python 3",
   "language": "python",
   "name": "python3"
  },
  "language_info": {
   "codemirror_mode": {
    "name": "ipython",
    "version": 3
   },
   "file_extension": ".py",
   "mimetype": "text/x-python",
   "name": "python",
   "nbconvert_exporter": "python",
   "pygments_lexer": "ipython3",
   "version": "3.8.5"
  }
 },
 "nbformat": 4,
 "nbformat_minor": 4
}
